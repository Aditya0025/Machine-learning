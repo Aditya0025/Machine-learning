{
 "cells": [
  {
   "cell_type": "code",
   "execution_count": 45,
   "metadata": {},
   "outputs": [
    {
     "name": "stdout",
     "output_type": "stream",
     "text": [
      "mean\n",
      "1\n",
      "question 1\n",
      "1\n",
      "3.25\n",
      "3.25\n"
     ]
    }
   ],
   "source": [
    "print('mean')\n",
    "import numpy as np\n",
    "s = [(1,2,3,1,2,5,3,9)]\n",
    "print(np.min(s))\n",
    "\n",
    "print (\"question 1\")\n",
    "import numpy as np\n",
    "s = [(1,2,3,1,2,5,3,9)]\n",
    "print(np.min(s))\n",
    "\n",
    "import numpy as np\n",
    "s = [(1,2,3,1,2,5,3,9)]\n",
    "print(np.mean(s))\n",
    "\n",
    "from statistics import mean\n",
    "l=[1,2,3,1,2,5,3,9]\n",
    "mean(l)\n",
    "\n",
    "from functools import reduce\n",
    "l = [1,2,3,1,2,5,3,9]\n",
    "print (reduce(lambda x,y:x+y,l)/len(l))"
   ]
  },
  {
   "cell_type": "markdown",
   "metadata": {},
   "source": []
  },
  {
   "cell_type": "code",
   "execution_count": 44,
   "metadata": {},
   "outputs": [
    {
     "name": "stdout",
     "output_type": "stream",
     "text": [
      "[2, 4, 1, 6, 7, 5, 3]\n",
      "[[6], [9], [2], [1], [5], [8], [3], [4], [7], [0]]\n",
      "[0, 1, 2, 3, 4] [4, 0, 1, 3, 2]\n",
      "no duplicates False\n",
      "nope\n"
     ]
    }
   ],
   "source": [
    "from functools import reduce\n",
    "l = [1,2,3,1,2,5,3,9]\n",
    "print (reduce(lambda x,y:x+y,l)/len(l))\n",
    "\n",
    "print('use of random')\n",
    "import random \n",
    "list_try= [1,2,3,4,5,6,7] \n",
    "random.shuffle(list_try)\n",
    "print(list_try)\n",
    "\n",
    "##\n",
    "from random import shuffle\n",
    "x=[[i] for i in range(10)]\n",
    "shuffle(x)\n",
    "print(x)\n",
    "\n",
    "##\n",
    "import random\n",
    "a= list(range(5))\n",
    "b= random.sample(a, len(a))\n",
    "print(a,b)\n",
    "\n",
    "a = range(555)\n",
    "b = random.sample(a,len(a))\n",
    "print('no duplicates' , a==list(set(b)))\n",
    "\n",
    "try:\n",
    "    random.sample(a,len(a)+1)\n",
    "except ValueError as e:\n",
    "    print ('nope')"
   ]
  },
  {
   "cell_type": "code",
   "execution_count": 61,
   "metadata": {},
   "outputs": [
    {
     "name": "stdout",
     "output_type": "stream",
     "text": [
      "[5, 6, 1, 2]\n"
     ]
    }
   ],
   "source": [
    "print('last items of list')\n",
    "l= [2,3,4,5,6,1,2]\n",
    "print(l[-4:])"
   ]
  },
  {
   "cell_type": "code",
   "execution_count": 89,
   "metadata": {},
   "outputs": [
    {
     "name": "stdout",
     "output_type": "stream",
     "text": [
      "[10, 'a']\n",
      "[123]\n",
      "[10, 'a']\n",
      "A new list is created once when the function is defined, and the same list is used in each successive call\n",
      "[10]\n",
      "[123]\n",
      "['a']\n"
     ]
    }
   ],
   "source": [
    "def extendlist(val, list=[]):\n",
    "    list.append(val)\n",
    "    return list\n",
    "\n",
    "list1= extendlist(10)\n",
    "list2= extendlist(123,[])\n",
    "list3 = extendlist('a')\n",
    "\n",
    "print ( list1)\n",
    "print(list2)\n",
    "print(list3)\n",
    "print('A new list is created once when the function is defined, and the same list is used in each successive call')\n",
    "      \n",
    "#instead of it we shoud do\n",
    "def append(value , a=None):\n",
    "      if a is None:\n",
    "          a = []\n",
    "      a.append(value)\n",
    "      return a\n",
    "      \n",
    "append1 = append(10)\n",
    "append2 = append(123,[])\n",
    "append3 = append('a')\n",
    "      \n",
    "print(append1)\n",
    "print(append2)\n",
    "print(append3)"
   ]
  },
  {
   "cell_type": "code",
   "execution_count": 95,
   "metadata": {},
   "outputs": [
    {
     "name": "stdout",
     "output_type": "stream",
     "text": [
      "1\n",
      "[<__main__.a object at 0x000001869F7DA978>, <__main__.a object at 0x000001869F7DA978>, <__main__.a object at 0x000001869F7DA978>, <__main__.a object at 0x000001869F7DA978>, <__main__.a object at 0x000001869F7DA978>, <__main__.a object at 0x000001869F7DA978>, <__main__.a object at 0x000001869F7DA978>, <__main__.a object at 0x000001869F7DA978>, <__main__.a object at 0x000001869F7DA978>, <__main__.a object at 0x000001869F7DA978>]\n",
      "1\n",
      "1\n",
      "1\n",
      "1\n",
      "1\n",
      "1\n",
      "1\n",
      "1\n",
      "1\n",
      "1\n",
      "5\n",
      "5\n",
      "5\n",
      "5\n",
      "5\n",
      "5\n",
      "5\n",
      "5\n",
      "5\n",
      "5\n"
     ]
    }
   ],
   "source": [
    "## fix it\n",
    "class a():\n",
    "    x=1\n",
    "    \n",
    "A=a()\n",
    "print (a.x)\n",
    "\n",
    "b=[a()] * 10\n",
    "print(b)\n",
    "\n",
    "for ix in b:\n",
    "    print(ix.x)\n",
    "    \n",
    "b[2].x =5\n",
    "for ix in b:\n",
    "    print (ix.x)\n",
    "    \n"
   ]
  },
  {
   "cell_type": "code",
   "execution_count": 96,
   "metadata": {},
   "outputs": [
    {
     "name": "stdout",
     "output_type": "stream",
     "text": [
      "['assdf', 'safsdafdf']\n"
     ]
    }
   ],
   "source": [
    "some = 'assdfgsafsdafdf'\n",
    "print(some.split('g',2))"
   ]
  },
  {
   "cell_type": "code",
   "execution_count": 104,
   "metadata": {},
   "outputs": [
    {
     "name": "stdout",
     "output_type": "stream",
     "text": [
      "1\n",
      "2\n",
      "x@\n",
      "2\n",
      "xx@\n",
      "2\n",
      "xxx@\n",
      "2\n",
      "xxxx@\n",
      "2\n",
      "xxxxx@\n",
      "     \n",
      "    * \n",
      "   * * \n",
      "  * * * \n",
      " * * * * \n"
     ]
    }
   ],
   "source": [
    "print(1)\n",
    "for i in range(0,5):\n",
    "    print(2)\n",
    "    for j in range(0,i+1):\n",
    "   \n",
    "        print('x',end=\"\")\n",
    "        \n",
    "    \n",
    "    print('@')\n",
    "    \n",
    "##different\n",
    "n=5\n",
    "for i in range(5):\n",
    "    print((n-i)*' '+i* '* ')"
   ]
  }
 ],
 "metadata": {
  "kernelspec": {
   "display_name": "Python 3",
   "language": "python",
   "name": "python3"
  },
  "language_info": {
   "codemirror_mode": {
    "name": "ipython",
    "version": 3
   },
   "file_extension": ".py",
   "mimetype": "text/x-python",
   "name": "python",
   "nbconvert_exporter": "python",
   "pygments_lexer": "ipython3",
   "version": "3.6.3"
  }
 },
 "nbformat": 4,
 "nbformat_minor": 2
}
