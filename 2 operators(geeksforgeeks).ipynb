{
 "cells": [
  {
   "cell_type": "code",
   "execution_count": 8,
   "metadata": {},
   "outputs": [
    {
     "name": "stdout",
     "output_type": "stream",
     "text": [
      "10\n",
      "10\n",
      "20\n",
      "20\n"
     ]
    }
   ],
   "source": [
    "#ternary operator(codn expression)(test codn in a single line replacing multiple if-else)\n",
    "a,b= 20,10\n",
    "#[on_true] if [exp] else [on-flse]\n",
    "min =a if a<b else b\n",
    "\n",
    "print(min)\n"
   ]
  },
  {
   "cell_type": "code",
   "execution_count": 9,
   "metadata": {},
   "outputs": [
    {
     "name": "stdout",
     "output_type": "stream",
     "text": [
      "10\n",
      "20\n",
      "20\n"
     ]
    }
   ],
   "source": [
    "# direct method usig tuple,dict,lambda\n",
    "\n",
    "a,b= 10,20\n",
    "print((b,a) [a<b]) #use tuple for select itm\n",
    "\n",
    "print({True:a, False:b} [a>b]) # usind dictionary\n",
    "\n",
    "print((lambda:b, lambda : a)[a>b]())"
   ]
  },
  {
   "cell_type": "code",
   "execution_count": 10,
   "metadata": {},
   "outputs": [
    {
     "name": "stdout",
     "output_type": "stream",
     "text": [
      "A<b\n"
     ]
    }
   ],
   "source": [
    "# nested if-else\n",
    "a,b= 10,20\n",
    "\n",
    "if a!=b:\n",
    "    if a>b:\n",
    "        print(\"a>b\")\n",
    "    else:\n",
    "        print(\"A<b\")\n",
    "else:\n",
    "    print(\"a==b\")\n",
    "\n"
   ]
  },
  {
   "cell_type": "code",
   "execution_count": 17,
   "metadata": {},
   "outputs": [
    {
     "name": "stdout",
     "output_type": "stream",
     "text": [
      "True\n",
      "False\n",
      "True\n"
     ]
    }
   ],
   "source": [
    "#any and all \n",
    "print (any([True,False,False])) # return true is if anyone is true\n",
    "print (any([False,False,False]))\n",
    "\n",
    "print(all([True,True,True]))\n",
    "\n"
   ]
  },
  {
   "cell_type": "code",
   "execution_count": 24,
   "metadata": {},
   "outputs": [
    {
     "name": "stdout",
     "output_type": "stream",
     "text": [
      "30\n",
      "good\n",
      "grater\n",
      "not equal\n"
     ]
    }
   ],
   "source": [
    "#operator fuction\n",
    "\n",
    "import operator\n",
    "\n",
    "a,b= 10,20\n",
    "\n",
    "print(operator.add(a,b))\n",
    "# similar to all *,/,-,power(pow), % etc\n",
    "\n",
    "if(operator.lt(a,b)): #less than\n",
    "    print(\"good\")\n",
    "else: print(\"not less\")\n",
    "if (operator.le(a,b)): # less tha or equal\n",
    "    print(\"grater\")\n",
    "else:\n",
    "    print(\"no grater than\")\n",
    "if (operator.eq(a,b)):\n",
    "    print(\"equal\")\n",
    "else:\n",
    "    print(\"not equal\")\n",
    "    \n",
    "#,gt,ge,ne    \n",
    "    "
   ]
  },
  {
   "cell_type": "code",
   "execution_count": 27,
   "metadata": {},
   "outputs": [
    {
     "name": "stdout",
     "output_type": "stream",
     "text": [
      "1\n",
      "2\n",
      "3\n",
      "4\n",
      "5\n",
      "modified li  1\n",
      "modified li  3\n",
      "modified li  3\n",
      "modified li  4\n",
      "modified li  5\n"
     ]
    }
   ],
   "source": [
    "# setitem,deleitem,getiem in particular postion\n",
    "import operator \n",
    "li= [1,2,3,4,5]\n",
    "\n",
    "for i in range(0,len(li)):\n",
    "    print(li[i])\n",
    "    \n",
    "operator.setitem(li,1,3)\n",
    "\n",
    "\n",
    "for i in range(0,len(li)):\n",
    "    print(\"modified li \", li[i])\n",
    "\n",
    "\n",
    "#setietm(object,position,value)\n",
    "#delitem(object,postion)\n",
    "#getitem(object,postion)\n",
    "\n",
    "\n",
    "\n"
   ]
  },
  {
   "cell_type": "code",
   "execution_count": 32,
   "metadata": {},
   "outputs": [
    {
     "name": "stdout",
     "output_type": "stream",
     "text": [
      "1\n",
      "2\n",
      "3\n",
      "4\n",
      "5\n",
      "6\n",
      "7\n",
      "8\n",
      "modified 1\n",
      "modified 9\n",
      "modified 7\n",
      "modified 6\n",
      "modified 5\n",
      "modified 6\n",
      "modified 7\n",
      "modified 8\n"
     ]
    }
   ],
   "source": [
    "#setitm,deleteitemor getirm at particular range\n",
    "import operator\n",
    "li = [1,2,3,4,5,6,7,8]\n",
    "for i in range(0,len(li)):\n",
    "    print(li[i])\n",
    "operator.setitem(li,slice(1,4),[9,7,6])\n",
    "\n",
    "for i in range(0,len(li)):\n",
    "    print(\"modified\", li[i])\n",
    "    \n",
    "#setitem(obj,slice(a:b),vale)\n",
    "#delitem(object,slice(a:b))\n",
    "# getitem"
   ]
  },
  {
   "cell_type": "code",
   "execution_count": null,
   "metadata": {
    "collapsed": true
   },
   "outputs": [],
   "source": [
    "#concatenate and contain\n",
    "#concat(obj1,obj2)\n",
    "#contain(obj1,obj2)#check for present in obj1 \n"
   ]
  },
  {
   "cell_type": "code",
   "execution_count": null,
   "metadata": {
    "collapsed": true
   },
   "outputs": [],
   "source": [
    "#logical operator AND,OR,XOR,NOT\n",
    "#AND (A&b)\n",
    "#OR(A|b)\n",
    "#XOR(A^b)\n",
    "#INVERT(NOT)(~a)"
   ]
  }
 ],
 "metadata": {
  "kernelspec": {
   "display_name": "Python 3",
   "language": "python",
   "name": "python3"
  },
  "language_info": {
   "codemirror_mode": {
    "name": "ipython",
    "version": 3
   },
   "file_extension": ".py",
   "mimetype": "text/x-python",
   "name": "python",
   "nbconvert_exporter": "python",
   "pygments_lexer": "ipython3",
   "version": "3.6.3"
  }
 },
 "nbformat": 4,
 "nbformat_minor": 2
}
