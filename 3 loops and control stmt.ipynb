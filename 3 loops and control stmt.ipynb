{
 "cells": [
  {
   "cell_type": "code",
   "execution_count": 1,
   "metadata": {},
   "outputs": [
    {
     "name": "stdout",
     "output_type": "stream",
     "text": [
      "count\n",
      "count\n",
      "count\n"
     ]
    }
   ],
   "source": [
    "count = 0\n",
    "while(count<3):\n",
    "    count = count+1\n",
    "    print(\"count\")"
   ]
  },
  {
   "cell_type": "code",
   "execution_count": 9,
   "metadata": {},
   "outputs": [
    {
     "name": "stdout",
     "output_type": "stream",
     "text": [
      "start\n",
      "1 \n",
      "2 2 \n",
      "3 3 3 \n",
      "4 4 4 4 \n"
     ]
    }
   ],
   "source": [
    "#nested loop\n",
    "from __future__ import print_function\n",
    "print(\"start\")\n",
    "for i in range(1,5):\n",
    "    \n",
    "    for j in range(i): # when range become 2 then loops work two times\n",
    "        \n",
    "        print(i, end=\" \")\n",
    "        \n",
    "    print()"
   ]
  },
  {
   "cell_type": "code",
   "execution_count": null,
   "metadata": {
    "collapsed": true
   },
   "outputs": [],
   "source": [
    "#continue and break and pass statement"
   ]
  },
  {
   "cell_type": "code",
   "execution_count": 23,
   "metadata": {},
   "outputs": [
    {
     "name": "stdout",
     "output_type": "stream",
     "text": [
      "Counter({1: 4, 2: 3, 3: 1})\n",
      "Counter({1: 5, 2: 4, 3: 1, 4: 1})\n",
      "Counter({'b': 2, 'a': 1})\n",
      "['a', 'b', 'b']\n"
     ]
    }
   ],
   "source": [
    "#container objects that hold object\n",
    "#way we call it for: counting elemnt and vice-versa\n",
    "\n",
    "from collections import Counter\n",
    "\n",
    "coun = Counter([1, 2, 3, 1, 2, 1, 1, 2])\n",
    " \n",
    "\n",
    "print(coun)\n",
    " \n",
    "coun.update([1, 2, 4])\n",
    "print(coun)\n",
    "\n",
    "#accesing counter\n",
    "from collections import Counter\n",
    "z = ['b','r','b','y','b','r']\n",
    "\n",
    "#element()- return an iteratur\n",
    "from collections import Counter\n",
    "\n",
    "coun = Counter(a=1,b=2)\n",
    "print(coun)\n",
    "\n",
    "print(list(coun.elements()))\n",
    "\n",
    "\n",
    "\n"
   ]
  },
  {
   "cell_type": "code",
   "execution_count": 3,
   "metadata": {
    "scrolled": true
   },
   "outputs": [
    {
     "name": "stdout",
     "output_type": "stream",
     "text": [
      "0 1\n",
      "1 2\n",
      "2 3\n",
      "3 4\n",
      "4 5\n"
     ]
    }
   ],
   "source": [
    "#Looping techniques\n",
    "#enumerate()\n",
    "\n",
    "l=[1,2,3,4,5]\n",
    "for key, value in enumerate(l):\n",
    "    print(key,value)\n",
    "#zip()\n",
    "# AND MANY MORE GO TO GEEKSFORGEEKS"
   ]
  },
  {
   "cell_type": "code",
   "execution_count": 22,
   "metadata": {},
   "outputs": [
    {
     "name": "stdout",
     "output_type": "stream",
     "text": [
      "print sum [1, 6, 8, 11, 15]\n",
      "print product [1, 5, 10, 30, 120]\n",
      "[1, 5, 2, 3, 4, 4, 2, 5, 3]\n",
      "[5, 2, 3, 6]\n"
     ]
    }
   ],
   "source": [
    "#python ITERATOR FOR EFFECTIVE LOOPING\n",
    "#accumulate,chain and etc\n",
    "#accumulate(iter, func),chain(iter1, iter2..),compress(iter, selector)\n",
    "\n",
    "\n",
    "import itertools\n",
    "import operator\n",
    "l1=[1,5,2,3,4]\n",
    "l2=[4,2,5,3]\n",
    "print('print sum', list(itertools.accumulate(l1)))\n",
    "print('print product', list(itertools.accumulate(l1,operator.mul)))\n",
    "print(list(itertools.chain(l1,l2)))\n",
    "\n",
    "#dropwhile(func, seq),\n",
    "#filterfalse(func, seq)\n",
    "l3=[2,4,5,2,3,6]\n",
    "print(list(itertools.dropwhile(lambda x:x%2==0,l3)))\"\"\"not working prperly\"\"\"\n"
   ]
  },
  {
   "cell_type": "code",
   "execution_count": 42,
   "metadata": {},
   "outputs": [
    {
     "name": "stdout",
     "output_type": "stream",
     "text": [
      "[2]\n",
      "[2, 2, 3]\n",
      "[]\n",
      "[('g', 'f'), ('g', 'g'), ('f', 'g'), ('f', 'g'), ('g', 'g'), ('g', 'f')]\n",
      "[('1', '2'), ('1', '3'), ('1', '4'), ('2', '3'), ('2', '4'), ('3', '4')]\n",
      "[25, 25, 25, 25]\n",
      "*\r\n",
      "**\r\n",
      "***\r\n",
      "****\r\n",
      "*****\r\n"
     ]
    }
   ],
   "source": [
    "#itertor functions \n",
    "\"\"\" islice(iterable, start, stop, step), \n",
    "starmap(func., tuple list),\n",
    "takewhile(func, iterable),\n",
    "tee(iterator, count)   \n",
    "zip_longest( iterable1, iterable2, fillval.) \"\"\"\n",
    "\n",
    "import itertools\n",
    "l1=[1,2,3,4]\n",
    "l2=[7,4,1,5,2]\n",
    "l3=[(2,3,4),(5,3,2),(3,5,4)]\n",
    "print(list(itertools.islice(l1,1, 3, 2)))\n",
    "print(list(itertools.starmap(min, l3),))\n",
    "\n",
    "print(list(itertools.takewhile(lambda x : x%2==0,l1)))\n",
    "\n",
    "#COMBINATORIC ITERATOR\n",
    "\n",
    "\"\"\"product(iter1, iter2),\n",
    "permutations(iter, group_size),\n",
    "combinations(iterable, group_size)\n",
    "combinations_with_replacement(iterable, group_size)\"\"\"\n",
    "\n",
    "print(list(itertools.permutations('gfg', 2),))\n",
    "\n",
    "print(list(itertools.combinations('1234',2)))\n",
    "\n",
    "#infintite iterator\n",
    "\"\"\" \n",
    "count(start, step) ,\n",
    "cycle(),\n",
    "repeat(val, num)\n",
    "\"\"\"\n",
    "print(list(itertools.repeat(25,4)))\n",
    "\n",
    "\n",
    "def pr(n):\n",
    "    \n",
    "    for i in range(0,n):# \"\"\"row\"\"\"\n",
    "        \n",
    "        for j in range(0,i+1): #\"\"\"col\"\"\"\n",
    "            print(\"*\", end='')\n",
    "       #en line after each row\"\"\"\n",
    "        print(\"\\r\")\n",
    "\n",
    "pr(5)\n",
    "\n",
    "\n",
    "\n",
    "\n",
    "\n",
    "\n",
    "\n",
    "\n",
    "\n",
    "\n",
    "\n",
    "\n",
    "\n",
    "\n",
    "\n",
    "\n",
    "\n",
    "\n",
    "\n",
    "\n",
    "\n"
   ]
  }
 ],
 "metadata": {
  "kernelspec": {
   "display_name": "Python 3",
   "language": "python",
   "name": "python3"
  },
  "language_info": {
   "codemirror_mode": {
    "name": "ipython",
    "version": 3
   },
   "file_extension": ".py",
   "mimetype": "text/x-python",
   "name": "python",
   "nbconvert_exporter": "python",
   "pygments_lexer": "ipython3",
   "version": "3.6.3"
  }
 },
 "nbformat": 4,
 "nbformat_minor": 2
}
