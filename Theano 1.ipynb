{
 "cells": [
  {
   "cell_type": "code",
   "execution_count": 4,
   "metadata": {},
   "outputs": [
    {
     "data": {
      "text/plain": [
       "array(6.0)"
      ]
     },
     "execution_count": 4,
     "metadata": {},
     "output_type": "execute_result"
    }
   ],
   "source": [
    "import numpy as np\n",
    "import theano.tensor as T\n",
    "from theano import function\n",
    "\n",
    "a= T.dscalar('a')\n",
    "b= T.dscalar('b')\n",
    "\n",
    "c= a*b\n",
    "f = function([a,b],c)\n",
    "\n",
    "f(2,3)"
   ]
  },
  {
   "cell_type": "code",
   "execution_count": 15,
   "metadata": {},
   "outputs": [
    {
     "name": "stdout",
     "output_type": "stream",
     "text": [
      "1\n",
      "2\n"
     ]
    }
   ],
   "source": [
    "# fixed variable\n",
    "from theano import shared\n",
    "x= T.iscalar('x')\n",
    "sh = shared(0)\n",
    "f= function([x], sh**2 , updates=[(sh,sh+x)])\n",
    "f(1)\n",
    "print (f(1))\n",
    "print(sh.get_value())\n"
   ]
  },
  {
   "cell_type": "code",
   "execution_count": 17,
   "metadata": {
    "scrolled": true
   },
   "outputs": [
    {
     "name": "stdout",
     "output_type": "stream",
     "text": [
      "((fill((x ** TensorConstant{3}), TensorConstant{1.0}) * TensorConstant{3}) * (x ** (TensorConstant{3} - TensorConstant{1})))\n"
     ]
    }
   ],
   "source": [
    "# Computing Gradient(means derivative)\n",
    "x = T.dscalar('x')\n",
    "y = x**3\n",
    "qy = T.grad(y,x)\n",
    "f = function([x],qy)\n",
    "f(4)\n",
    "\n",
    "from theano import pp  #pretty-print\n",
    "print(pp(qy))\n",
    "\n",
    "# fill(x**3,1) means to make a matrix same shape as x**3 and fill it with 1 "
   ]
  },
  {
   "cell_type": "code",
   "execution_count": null,
   "metadata": {
    "collapsed": true
   },
   "outputs": [],
   "source": [
    "#modelling a single neuron (Feed Forward)\n",
    "#and gate impl\n",
    "import theano\n",
    "import theano.tensor as T\n",
    "from theano.ifelse import ifelse\n",
    "import numpy as np\n",
    "\n",
    "x= T.vector('x')\n",
    "y = T.vector('y')\n",
    "b= T.scalar('b')\n"
   ]
  },
  {
   "cell_type": "code",
   "execution_count": null,
   "metadata": {
    "collapsed": true
   },
   "outputs": [],
   "source": []
  }
 ],
 "metadata": {
  "kernelspec": {
   "display_name": "Python 3",
   "language": "python",
   "name": "python3"
  },
  "language_info": {
   "codemirror_mode": {
    "name": "ipython",
    "version": 3
   },
   "file_extension": ".py",
   "mimetype": "text/x-python",
   "name": "python",
   "nbconvert_exporter": "python",
   "pygments_lexer": "ipython3",
   "version": "3.6.3"
  }
 },
 "nbformat": 4,
 "nbformat_minor": 2
}
